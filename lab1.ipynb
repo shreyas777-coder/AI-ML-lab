{
 "cells": [
  {
   "cell_type": "code",
   "execution_count": 3,
   "metadata": {},
   "outputs": [
    {
     "name": "stdout",
     "output_type": "stream",
     "text": [
      "---Path Found---\n"
     ]
    },
    {
     "data": {
      "text/plain": [
       "['S', 'A', 'C', 'G']"
      ]
     },
     "execution_count": 3,
     "metadata": {},
     "output_type": "execute_result"
    }
   ],
   "source": [
    "def astaralgo(startnode,endnode):\n",
    "    open_set=set(startnode)\n",
    "    closed_set=set()\n",
    "    g={}\n",
    "    parent={}\n",
    "    parent[startnode]=startnode\n",
    "    g[startnode]=0\n",
    "    \n",
    "    \n",
    "    while len(open_set)>0:\n",
    "        n=None\n",
    "        \n",
    "        for v in open_set:\n",
    "            if n==None or g[v]+heu[v]<g[n]+heu[n]:\n",
    "                n=v\n",
    "                \n",
    "        if n==endnode or graph[n]==None:\n",
    "            pass\n",
    "        else:\n",
    "            for (m,weight) in get_adjacent(n):\n",
    "                if m not in open_set and m not in closed_set:\n",
    "                    open_set.add(m)\n",
    "                    g[m]=g[n]+weight\n",
    "                    parent[m]=n\n",
    "                    \n",
    "                else:\n",
    "                    if g[m]>g[n]+weight:\n",
    "                        g[m]=g[n]+weight\n",
    "                        parent[m]=n\n",
    "                        \n",
    "                        if m in closed_set:\n",
    "                            closed_set.remove(m)\n",
    "                            open_set.add(m)\n",
    "                            \n",
    "        if n==None:\n",
    "            print(\"Path does not Exists\")\n",
    "            \n",
    "        if n==endnode:\n",
    "            path=[]\n",
    "            \n",
    "            while parent[n]!=n:\n",
    "                path.append(n)\n",
    "                n=parent[n]\n",
    "                \n",
    "            path.append(startnode)\n",
    "            path.reverse()\n",
    "            \n",
    "            print(\"---Path Found---\")\n",
    "            return path\n",
    "        \n",
    "        \n",
    "        open_set.remove(n)\n",
    "        closed_set.add(n)\n",
    "        \n",
    "    print('open set',open_set)\n",
    "    print('parent',parent)\n",
    "    print('distance g',g)\n",
    "        \n",
    "    \n",
    "    \n",
    "    \n",
    "def get_adjacent(v):\n",
    "    if v in graph:\n",
    "        return graph[v]\n",
    "    else:\n",
    "        None\n",
    "\n",
    "\n",
    "graph={'S':[('A',1),('G',10)],\n",
    "      'A':[('B',3),('C',2)],\n",
    "      'B':[('D',8)],\n",
    "      'C':[('D',3),('G',6)],\n",
    "      'D':[('G',2)],\n",
    "      'G':None}\n",
    "heu={'S':5,'A':3,'B':4,'C':2,'D':6,'G':0}\n",
    "astaralgo('S','G')"
   ]
  },
  {
   "cell_type": "code",
   "execution_count": null,
   "metadata": {},
   "outputs": [],
   "source": []
  },
  {
   "cell_type": "code",
   "execution_count": null,
   "metadata": {},
   "outputs": [],
   "source": []
  }
 ],
 "metadata": {
  "kernelspec": {
   "display_name": "Python 3",
   "language": "python",
   "name": "python3"
  },
  "language_info": {
   "codemirror_mode": {
    "name": "ipython",
    "version": 3
   },
   "file_extension": ".py",
   "mimetype": "text/x-python",
   "name": "python",
   "nbconvert_exporter": "python",
   "pygments_lexer": "ipython3",
   "version": "3.5.6"
  }
 },
 "nbformat": 4,
 "nbformat_minor": 2
}
